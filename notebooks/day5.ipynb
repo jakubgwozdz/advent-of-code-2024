{
 "cells": [
  {
   "metadata": {
    "ExecuteTime": {
     "end_time": "2024-12-06T04:25:44.129254Z",
     "start_time": "2024-12-06T04:25:43.421906Z"
    }
   },
   "cell_type": "code",
   "source": [
    "%use ktor-client\n",
    "import io.ktor.client.plugins.defaultRequest\n",
    "import io.ktor.client.request.header\n",
    "import java.io.File\n",
    "\n",
    "val aoc =http.config {\n",
    "    defaultRequest {\n",
    "        header(\"Cookie\", File(\"../local/cookie\").absoluteFile.readText().trim())\n",
    "    }\n",
    "}\n",
    "val input =aoc.get(\"https://adventofcode.com/2024/day/5/input\").bodyAsText()"
   ],
   "outputs": [],
   "execution_count": 2
  },
  {
   "metadata": {
    "ExecuteTime": {
     "end_time": "2024-12-06T04:51:42.387535Z",
     "start_time": "2024-12-06T04:51:42.286735Z"
    }
   },
   "cell_type": "code",
   "source": [
    "val ordering = input.lineSequence().takeWhile { it.isNotBlank() }\n",
    "    .map { it.split(\"|\").let { (a, b) -> a.toLong() to b.toLong() } }\n",
    "    .toSet()\n",
    "ordering.size"
   ],
   "outputs": [
    {
     "data": {
      "text/plain": [
       "1176"
      ]
     },
     "execution_count": 18,
     "metadata": {},
     "output_type": "execute_result"
    }
   ],
   "execution_count": 18
  },
  {
   "metadata": {
    "ExecuteTime": {
     "end_time": "2024-12-06T04:51:49.123778Z",
     "start_time": "2024-12-06T04:51:49.023759Z"
    }
   },
   "cell_type": "code",
   "source": [
    "val updates = input.lineSequence().dropWhile { it.isNotBlank() }.filter { it.isNotBlank() }\n",
    "    .map { it.split(\",\").map(String::toLong) }.toList()\n",
    "updates.size"
   ],
   "outputs": [
    {
     "data": {
      "text/plain": [
       "185"
      ]
     },
     "execution_count": 19,
     "metadata": {},
     "output_type": "execute_result"
    }
   ],
   "execution_count": 19
  },
  {
   "metadata": {
    "ExecuteTime": {
     "end_time": "2024-12-06T04:39:35.955094Z",
     "start_time": "2024-12-06T04:39:29.702913Z"
    }
   },
   "cell_type": "code",
   "outputs": [],
   "execution_count": 13,
   "source": "@file:DependsOn(\"ai.hypergraph:kaliningraph-jvm:0.1.9\")\n"
  },
  {
   "metadata": {
    "ExecuteTime": {
     "end_time": "2024-12-06T04:56:26.278106Z",
     "start_time": "2024-12-06T04:56:26.112864Z"
    }
   },
   "cell_type": "code",
   "source": [
    "updates.take(3).map { update ->\n",
    "    LabeledGraph {\n",
    "        ordering\n",
    "            .filter { (x, y) -> x in update && y in update }\n",
    "            .forEach { it.first.toString() - it.second.toString() }\n",
    "    }.description\n",
    "}"
   ],
   "outputs": [
    {
     "data": {
      "text/plain": [
       "[, , ]"
      ]
     },
     "execution_count": 23,
     "metadata": {},
     "output_type": "execute_result"
    }
   ],
   "execution_count": 23
  },
  {
   "metadata": {},
   "cell_type": "code",
   "outputs": [],
   "execution_count": null,
   "source": ""
  }
 ],
 "metadata": {
  "kernelspec": {
   "display_name": "Kotlin",
   "language": "kotlin",
   "name": "kotlin"
  },
  "language_info": {
   "name": "kotlin",
   "version": "1.9.23",
   "mimetype": "text/x-kotlin",
   "file_extension": ".kt",
   "pygments_lexer": "kotlin",
   "codemirror_mode": "text/x-kotlin",
   "nbconvert_exporter": ""
  }
 },
 "nbformat": 4,
 "nbformat_minor": 0
}
